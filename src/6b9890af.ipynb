{
 "cells": [
  {
   "cell_type": "markdown",
   "metadata": {},
   "source": [
    "#### Problem 6b9890af: \n",
    "Working "
   ]
  },
  {
   "cell_type": "code",
   "execution_count": 1,
   "metadata": {},
   "outputs": [],
   "source": [
    "import numpy as np"
   ]
  },
  {
   "cell_type": "code",
   "execution_count": 2,
   "metadata": {},
   "outputs": [],
   "source": [
    "def solver(x):\n",
    "    box_cords = list()\n",
    "\n",
    "    # get the first horizontal line of the red box\n",
    "    # don't need all of the coords for the scaling\n",
    "    for index, elems in enumerate(x):\n",
    "        if np.any(elems == 2):\n",
    "            box_cords.append(index)\n",
    "\n",
    "\n",
    "    # get the cords for the anomaly that we want to place in the box    \n",
    "    anom_cords = np.where((x != 0) & (x!=2))\n",
    "    min_val_row = np.amin(anom_cords[0])\n",
    "    min_val_col = np.amin(anom_cords[1]) \n",
    "    \n",
    "    # we need to encode the box coords into the the range from 0-3\n",
    "    encd_rows = np.mod(anom_cords[0], min_val_row)\n",
    "    encd_cols = np.mod(anom_cords[1], min_val_col)\n",
    "    encd_cords = list(zip(encd_rows,encd_cols))\n",
    "    encd_cords = np.array(encd_cords)\n",
    "\n",
    "    # get the anomaly val\n",
    "    anom_cords = list(zip(*anom_cords))\n",
    "    anom_vals = [x[cords] for cords in anom_cords][0]\n",
    "    \n",
    "    box_xy = len(box_cords)\n",
    "    new_x = np.zeros((box_xy,box_xy))\n",
    "    new_x[:,0] = 2\n",
    "    new_x[0] = 2\n",
    "    new_x[box_xy-1]=2\n",
    "    new_x[:,box_xy-1]=2\n",
    "\n",
    "    \n",
    "    # scaling aditive - creating scaling aditive that is used to \n",
    "    # amplify the anamoly in the postions - this is the factor of \n",
    "    # the internal length of empty space in the box.\n",
    "    # if there is no scaling to be done, set the scaling to 0    \n",
    "    scaling_aditive = int((box_xy-2)/3)\n",
    "    if scaling_aditive <= 1:\n",
    "        scaling_aditive = 0\n",
    "        \n",
    "    # split the area into thirds excluding the red box of 2s\n",
    "    play_area = np.where(new_x == 0)\n",
    "    play_area = list(zip(*play_area))\n",
    "    play_area = np.array(play_area)\n",
    "\n",
    "    # dividing the area into thirds\n",
    "    # Since we want to encode the anomaly in some enlarge space\n",
    "    # And the anamolies are in a 3x3 grid, this utility is useful     \n",
    "    play_area_split = np.array_split(play_area, 3)\n",
    "\n",
    "    # since we scale the coordinates of the anamoly to a range\n",
    "    # we can compare the index for the row triplets to the \n",
    "    # scaled rows directly.    \n",
    "    for index, cords, in enumerate(play_area_split):\n",
    "        for idx, crds in enumerate(encd_cords):\n",
    "            if index == crds[0]:\n",
    "                start_point = play_area_split[index][0][0]\n",
    "                end_point = start_point+scaling_aditive\n",
    "                cols_start = (crds[1]*scaling_aditive)+1\n",
    "                cols_end = cols_start+scaling_aditive\n",
    "                new_x[start_point:end_point, cols_start:cols_end] = anom_vals\n",
    "                    \n",
    "    x = new_x.astype(int)\n",
    "    return x"
   ]
  },
  {
   "cell_type": "code",
   "execution_count": 3,
   "metadata": {},
   "outputs": [],
   "source": [
    "x2 = np.array([\n",
    "    [0,0,0,0,0,0,0,0,0,0,0,0,0,0,0,0,0,0,0,0,0],\n",
    "    [0,0,2,2,2,2,2,2,2,2,0,0,0,0,0,0,0,0,0,0,0],\n",
    "    [0,0,2,0,0,0,0,0,0,2,0,0,0,0,0,0,0,0,0,0,0],\n",
    "    [0,0,2,0,0,0,0,0,0,2,0,0,0,0,0,0,0,0,0,0,0],\n",
    "    [0,0,2,0,0,0,0,0,0,2,0,0,0,0,0,0,0,0,0,0,0],\n",
    "    [0,0,2,0,0,0,0,0,0,2,0,0,0,0,0,0,0,0,0,0,0],\n",
    "    [0,0,2,0,0,0,0,0,0,2,0,0,0,0,0,0,0,0,0,0,0],\n",
    "    [0,0,2,0,0,0,0,0,0,2,0,0,0,0,0,0,0,0,0,0,0],\n",
    "    [0,0,2,2,2,2,2,2,2,2,0,0,0,0,0,0,0,0,0,0,0],\n",
    "    [0,0,0,0,0,0,0,0,0,0,0,0,0,0,0,0,0,0,0,0,0],\n",
    "    [0,0,0,0,0,0,0,0,0,0,0,0,0,0,0,0,0,0,0,0,0],\n",
    "    [0,0,0,0,0,0,0,0,0,0,8,0,0,0,0,0,0,0,0,0,0],\n",
    "    [0,0,0,0,0,0,0,0,0,8,8,8,0,0,0,0,0,0,0,0,0],\n",
    "    [0,0,0,0,0,0,0,0,0,0,8,0,0,0,0,0,0,0,0,0,0],\n",
    "    [0,0,0,0,0,0,0,0,0,0,0,0,0,0,0,0,0,0,0,0,0],\n",
    "    [0,0,0,0,0,0,0,0,0,0,0,0,0,0,0,0,0,0,0,0,0],\n",
    "    [0,0,0,0,0,0,0,0,0,0,0,0,0,0,0,0,0,0,0,0,0],\n",
    "    [0,0,0,0,0,0,0,0,0,0,0,0,0,0,0,0,0,0,0,0,0],\n",
    "    [0,0,0,0,0,0,0,0,0,0,0,0,0,0,0,0,0,0,0,0,0],\n",
    "    [0,0,0,0,0,0,0,0,0,0,0,0,0,0,0,0,0,0,0,0,0]\n",
    "])"
   ]
  },
  {
   "cell_type": "code",
   "execution_count": 4,
   "metadata": {},
   "outputs": [
    {
     "data": {
      "text/plain": [
       "array([[0, 0, 0, 0, 0, 0, 0, 0, 0, 0, 0, 0, 0, 0, 0, 0, 0, 0, 0, 0, 0],\n",
       "       [0, 0, 2, 2, 2, 2, 2, 2, 2, 2, 0, 0, 0, 0, 0, 0, 0, 0, 0, 0, 0],\n",
       "       [0, 0, 2, 0, 0, 0, 0, 0, 0, 2, 0, 0, 0, 0, 0, 0, 0, 0, 0, 0, 0],\n",
       "       [0, 0, 2, 0, 0, 0, 0, 0, 0, 2, 0, 0, 0, 0, 0, 0, 0, 0, 0, 0, 0],\n",
       "       [0, 0, 2, 0, 0, 0, 0, 0, 0, 2, 0, 0, 0, 0, 0, 0, 0, 0, 0, 0, 0],\n",
       "       [0, 0, 2, 0, 0, 0, 0, 0, 0, 2, 0, 0, 0, 0, 0, 0, 0, 0, 0, 0, 0],\n",
       "       [0, 0, 2, 0, 0, 0, 0, 0, 0, 2, 0, 0, 0, 0, 0, 0, 0, 0, 0, 0, 0],\n",
       "       [0, 0, 2, 0, 0, 0, 0, 0, 0, 2, 0, 0, 0, 0, 0, 0, 0, 0, 0, 0, 0],\n",
       "       [0, 0, 2, 2, 2, 2, 2, 2, 2, 2, 0, 0, 0, 0, 0, 0, 0, 0, 0, 0, 0],\n",
       "       [0, 0, 0, 0, 0, 0, 0, 0, 0, 0, 0, 0, 0, 0, 0, 0, 0, 0, 0, 0, 0],\n",
       "       [0, 0, 0, 0, 0, 0, 0, 0, 0, 0, 0, 0, 0, 0, 0, 0, 0, 0, 0, 0, 0],\n",
       "       [0, 0, 0, 0, 0, 0, 0, 0, 0, 0, 8, 0, 0, 0, 0, 0, 0, 0, 0, 0, 0],\n",
       "       [0, 0, 0, 0, 0, 0, 0, 0, 0, 8, 8, 8, 0, 0, 0, 0, 0, 0, 0, 0, 0],\n",
       "       [0, 0, 0, 0, 0, 0, 0, 0, 0, 0, 8, 0, 0, 0, 0, 0, 0, 0, 0, 0, 0],\n",
       "       [0, 0, 0, 0, 0, 0, 0, 0, 0, 0, 0, 0, 0, 0, 0, 0, 0, 0, 0, 0, 0],\n",
       "       [0, 0, 0, 0, 0, 0, 0, 0, 0, 0, 0, 0, 0, 0, 0, 0, 0, 0, 0, 0, 0],\n",
       "       [0, 0, 0, 0, 0, 0, 0, 0, 0, 0, 0, 0, 0, 0, 0, 0, 0, 0, 0, 0, 0],\n",
       "       [0, 0, 0, 0, 0, 0, 0, 0, 0, 0, 0, 0, 0, 0, 0, 0, 0, 0, 0, 0, 0],\n",
       "       [0, 0, 0, 0, 0, 0, 0, 0, 0, 0, 0, 0, 0, 0, 0, 0, 0, 0, 0, 0, 0],\n",
       "       [0, 0, 0, 0, 0, 0, 0, 0, 0, 0, 0, 0, 0, 0, 0, 0, 0, 0, 0, 0, 0]])"
      ]
     },
     "execution_count": 4,
     "metadata": {},
     "output_type": "execute_result"
    }
   ],
   "source": [
    "x2"
   ]
  },
  {
   "cell_type": "code",
   "execution_count": 5,
   "metadata": {},
   "outputs": [
    {
     "data": {
      "text/plain": [
       "array([[2, 2, 2, 2, 2, 2, 2, 2],\n",
       "       [2, 0, 0, 8, 8, 0, 0, 2],\n",
       "       [2, 0, 0, 8, 8, 0, 0, 2],\n",
       "       [2, 8, 8, 8, 8, 8, 8, 2],\n",
       "       [2, 8, 8, 8, 8, 8, 8, 2],\n",
       "       [2, 0, 0, 8, 8, 0, 0, 2],\n",
       "       [2, 0, 0, 8, 8, 0, 0, 2],\n",
       "       [2, 2, 2, 2, 2, 2, 2, 2]])"
      ]
     },
     "execution_count": 5,
     "metadata": {},
     "output_type": "execute_result"
    }
   ],
   "source": [
    "solver(x2)"
   ]
  },
  {
   "cell_type": "code",
   "execution_count": null,
   "metadata": {},
   "outputs": [],
   "source": []
  },
  {
   "cell_type": "code",
   "execution_count": null,
   "metadata": {},
   "outputs": [],
   "source": []
  },
  {
   "cell_type": "code",
   "execution_count": null,
   "metadata": {},
   "outputs": [],
   "source": []
  }
 ],
 "metadata": {
  "kernelspec": {
   "display_name": "Python 3",
   "language": "python",
   "name": "python3"
  },
  "language_info": {
   "codemirror_mode": {
    "name": "ipython",
    "version": 3
   },
   "file_extension": ".py",
   "mimetype": "text/x-python",
   "name": "python",
   "nbconvert_exporter": "python",
   "pygments_lexer": "ipython3",
   "version": "3.8.5"
  }
 },
 "nbformat": 4,
 "nbformat_minor": 4
}
